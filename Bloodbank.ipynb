{
  "nbformat": 4,
  "nbformat_minor": 0,
  "metadata": {
    "colab": {
      "provenance": [],
      "collapsed_sections": [],
      "include_colab_link": true
    },
    "kernelspec": {
      "name": "python3",
      "display_name": "Python 3"
    }
  },
  "cells": [
    {
      "cell_type": "markdown",
      "metadata": {
        "id": "view-in-github",
        "colab_type": "text"
      },
      "source": [
        "<a href=\"https://colab.research.google.com/github/Jaruwan-Project/Blood-Bank-simulation-Project/blob/master/Bloodbank.ipynb\" target=\"_parent\"><img src=\"https://colab.research.google.com/assets/colab-badge.svg\" alt=\"Open In Colab\"/></a>"
      ]
    },
    {
      "cell_type": "markdown",
      "metadata": {
        "id": "tV6O_Kdu693S"
      },
      "source": [
        "import file in pandas"
      ]
    },
    {
      "cell_type": "code",
      "metadata": {
        "id": "prl2BlQFg4P3"
      },
      "source": [
        "import pandas as pd"
      ],
      "execution_count": null,
      "outputs": []
    },
    {
      "cell_type": "code",
      "metadata": {
        "colab": {
          "base_uri": "https://localhost:8080/",
          "height": 670
        },
        "id": "KWEs8G2SG4Ii",
        "outputId": "ac7b452c-f1e2-4155-c7f1-ac34bf14a94c"
      },
      "source": [
        "df = pd.read_csv(\"demand1.txt\")\n",
        "print(df)\n",
        "print(df['Day'].dtypes)\n",
        "print(df['Day'][0])\n",
        "print(df['Day'][0]%7)"
      ],
      "execution_count": null,
      "outputs": [
        {
          "output_type": "stream",
          "name": "stdout",
          "text": [
            "   1  1.1  42  12\n",
            "0  2    1  32  10\n",
            "1  3    1  27  11\n",
            "2  4    0  16  36\n",
            "3  5    1  24   9\n",
            "4  6    0  13  32\n",
            "5  7    1  16   8\n"
          ]
        },
        {
          "output_type": "error",
          "ename": "KeyError",
          "evalue": "ignored",
          "traceback": [
            "\u001b[0;31m---------------------------------------------------------------------------\u001b[0m",
            "\u001b[0;31mKeyError\u001b[0m                                  Traceback (most recent call last)",
            "\u001b[0;32m/usr/local/lib/python3.7/dist-packages/pandas/core/indexes/base.py\u001b[0m in \u001b[0;36mget_loc\u001b[0;34m(self, key, method, tolerance)\u001b[0m\n\u001b[1;32m   2897\u001b[0m             \u001b[0;32mtry\u001b[0m\u001b[0;34m:\u001b[0m\u001b[0;34m\u001b[0m\u001b[0;34m\u001b[0m\u001b[0m\n\u001b[0;32m-> 2898\u001b[0;31m                 \u001b[0;32mreturn\u001b[0m \u001b[0mself\u001b[0m\u001b[0;34m.\u001b[0m\u001b[0m_engine\u001b[0m\u001b[0;34m.\u001b[0m\u001b[0mget_loc\u001b[0m\u001b[0;34m(\u001b[0m\u001b[0mcasted_key\u001b[0m\u001b[0;34m)\u001b[0m\u001b[0;34m\u001b[0m\u001b[0;34m\u001b[0m\u001b[0m\n\u001b[0m\u001b[1;32m   2899\u001b[0m             \u001b[0;32mexcept\u001b[0m \u001b[0mKeyError\u001b[0m \u001b[0;32mas\u001b[0m \u001b[0merr\u001b[0m\u001b[0;34m:\u001b[0m\u001b[0;34m\u001b[0m\u001b[0;34m\u001b[0m\u001b[0m\n",
            "\u001b[0;32mpandas/_libs/index.pyx\u001b[0m in \u001b[0;36mpandas._libs.index.IndexEngine.get_loc\u001b[0;34m()\u001b[0m\n",
            "\u001b[0;32mpandas/_libs/index.pyx\u001b[0m in \u001b[0;36mpandas._libs.index.IndexEngine.get_loc\u001b[0;34m()\u001b[0m\n",
            "\u001b[0;32mpandas/_libs/hashtable_class_helper.pxi\u001b[0m in \u001b[0;36mpandas._libs.hashtable.PyObjectHashTable.get_item\u001b[0;34m()\u001b[0m\n",
            "\u001b[0;32mpandas/_libs/hashtable_class_helper.pxi\u001b[0m in \u001b[0;36mpandas._libs.hashtable.PyObjectHashTable.get_item\u001b[0;34m()\u001b[0m\n",
            "\u001b[0;31mKeyError\u001b[0m: 'Day'",
            "\nThe above exception was the direct cause of the following exception:\n",
            "\u001b[0;31mKeyError\u001b[0m                                  Traceback (most recent call last)",
            "\u001b[0;32m<ipython-input-4-aa4bbfe5d545>\u001b[0m in \u001b[0;36m<module>\u001b[0;34m()\u001b[0m\n\u001b[1;32m      1\u001b[0m \u001b[0mdf\u001b[0m \u001b[0;34m=\u001b[0m \u001b[0mpd\u001b[0m\u001b[0;34m.\u001b[0m\u001b[0mread_csv\u001b[0m\u001b[0;34m(\u001b[0m\u001b[0;34m\"demand1.txt\"\u001b[0m\u001b[0;34m)\u001b[0m\u001b[0;34m\u001b[0m\u001b[0;34m\u001b[0m\u001b[0m\n\u001b[1;32m      2\u001b[0m \u001b[0mprint\u001b[0m\u001b[0;34m(\u001b[0m\u001b[0mdf\u001b[0m\u001b[0;34m)\u001b[0m\u001b[0;34m\u001b[0m\u001b[0;34m\u001b[0m\u001b[0m\n\u001b[0;32m----> 3\u001b[0;31m \u001b[0mprint\u001b[0m\u001b[0;34m(\u001b[0m\u001b[0mdf\u001b[0m\u001b[0;34m[\u001b[0m\u001b[0;34m'Day'\u001b[0m\u001b[0;34m]\u001b[0m\u001b[0;34m.\u001b[0m\u001b[0mdtypes\u001b[0m\u001b[0;34m)\u001b[0m\u001b[0;34m\u001b[0m\u001b[0;34m\u001b[0m\u001b[0m\n\u001b[0m\u001b[1;32m      4\u001b[0m \u001b[0mprint\u001b[0m\u001b[0;34m(\u001b[0m\u001b[0mdf\u001b[0m\u001b[0;34m[\u001b[0m\u001b[0;34m'Day'\u001b[0m\u001b[0;34m]\u001b[0m\u001b[0;34m[\u001b[0m\u001b[0;36m0\u001b[0m\u001b[0;34m]\u001b[0m\u001b[0;34m)\u001b[0m\u001b[0;34m\u001b[0m\u001b[0;34m\u001b[0m\u001b[0m\n\u001b[1;32m      5\u001b[0m \u001b[0mprint\u001b[0m\u001b[0;34m(\u001b[0m\u001b[0mdf\u001b[0m\u001b[0;34m[\u001b[0m\u001b[0;34m'Day'\u001b[0m\u001b[0;34m]\u001b[0m\u001b[0;34m[\u001b[0m\u001b[0;36m0\u001b[0m\u001b[0;34m]\u001b[0m\u001b[0;34m%\u001b[0m\u001b[0;36m7\u001b[0m\u001b[0;34m)\u001b[0m\u001b[0;34m\u001b[0m\u001b[0;34m\u001b[0m\u001b[0m\n",
            "\u001b[0;32m/usr/local/lib/python3.7/dist-packages/pandas/core/frame.py\u001b[0m in \u001b[0;36m__getitem__\u001b[0;34m(self, key)\u001b[0m\n\u001b[1;32m   2904\u001b[0m             \u001b[0;32mif\u001b[0m \u001b[0mself\u001b[0m\u001b[0;34m.\u001b[0m\u001b[0mcolumns\u001b[0m\u001b[0;34m.\u001b[0m\u001b[0mnlevels\u001b[0m \u001b[0;34m>\u001b[0m \u001b[0;36m1\u001b[0m\u001b[0;34m:\u001b[0m\u001b[0;34m\u001b[0m\u001b[0;34m\u001b[0m\u001b[0m\n\u001b[1;32m   2905\u001b[0m                 \u001b[0;32mreturn\u001b[0m \u001b[0mself\u001b[0m\u001b[0;34m.\u001b[0m\u001b[0m_getitem_multilevel\u001b[0m\u001b[0;34m(\u001b[0m\u001b[0mkey\u001b[0m\u001b[0;34m)\u001b[0m\u001b[0;34m\u001b[0m\u001b[0;34m\u001b[0m\u001b[0m\n\u001b[0;32m-> 2906\u001b[0;31m             \u001b[0mindexer\u001b[0m \u001b[0;34m=\u001b[0m \u001b[0mself\u001b[0m\u001b[0;34m.\u001b[0m\u001b[0mcolumns\u001b[0m\u001b[0;34m.\u001b[0m\u001b[0mget_loc\u001b[0m\u001b[0;34m(\u001b[0m\u001b[0mkey\u001b[0m\u001b[0;34m)\u001b[0m\u001b[0;34m\u001b[0m\u001b[0;34m\u001b[0m\u001b[0m\n\u001b[0m\u001b[1;32m   2907\u001b[0m             \u001b[0;32mif\u001b[0m \u001b[0mis_integer\u001b[0m\u001b[0;34m(\u001b[0m\u001b[0mindexer\u001b[0m\u001b[0;34m)\u001b[0m\u001b[0;34m:\u001b[0m\u001b[0;34m\u001b[0m\u001b[0;34m\u001b[0m\u001b[0m\n\u001b[1;32m   2908\u001b[0m                 \u001b[0mindexer\u001b[0m \u001b[0;34m=\u001b[0m \u001b[0;34m[\u001b[0m\u001b[0mindexer\u001b[0m\u001b[0;34m]\u001b[0m\u001b[0;34m\u001b[0m\u001b[0;34m\u001b[0m\u001b[0m\n",
            "\u001b[0;32m/usr/local/lib/python3.7/dist-packages/pandas/core/indexes/base.py\u001b[0m in \u001b[0;36mget_loc\u001b[0;34m(self, key, method, tolerance)\u001b[0m\n\u001b[1;32m   2898\u001b[0m                 \u001b[0;32mreturn\u001b[0m \u001b[0mself\u001b[0m\u001b[0;34m.\u001b[0m\u001b[0m_engine\u001b[0m\u001b[0;34m.\u001b[0m\u001b[0mget_loc\u001b[0m\u001b[0;34m(\u001b[0m\u001b[0mcasted_key\u001b[0m\u001b[0;34m)\u001b[0m\u001b[0;34m\u001b[0m\u001b[0;34m\u001b[0m\u001b[0m\n\u001b[1;32m   2899\u001b[0m             \u001b[0;32mexcept\u001b[0m \u001b[0mKeyError\u001b[0m \u001b[0;32mas\u001b[0m \u001b[0merr\u001b[0m\u001b[0;34m:\u001b[0m\u001b[0;34m\u001b[0m\u001b[0;34m\u001b[0m\u001b[0m\n\u001b[0;32m-> 2900\u001b[0;31m                 \u001b[0;32mraise\u001b[0m \u001b[0mKeyError\u001b[0m\u001b[0;34m(\u001b[0m\u001b[0mkey\u001b[0m\u001b[0;34m)\u001b[0m \u001b[0;32mfrom\u001b[0m \u001b[0merr\u001b[0m\u001b[0;34m\u001b[0m\u001b[0;34m\u001b[0m\u001b[0m\n\u001b[0m\u001b[1;32m   2901\u001b[0m \u001b[0;34m\u001b[0m\u001b[0m\n\u001b[1;32m   2902\u001b[0m         \u001b[0;32mif\u001b[0m \u001b[0mtolerance\u001b[0m \u001b[0;32mis\u001b[0m \u001b[0;32mnot\u001b[0m \u001b[0;32mNone\u001b[0m\u001b[0;34m:\u001b[0m\u001b[0;34m\u001b[0m\u001b[0;34m\u001b[0m\u001b[0m\n",
            "\u001b[0;31mKeyError\u001b[0m: 'Day'"
          ]
        }
      ]
    },
    {
      "cell_type": "code",
      "metadata": {
        "colab": {
          "base_uri": "https://localhost:8080/"
        },
        "id": "Cz8HZYk8tcli",
        "outputId": "ed73bf7b-3af4-4bb4-a2ad-192811fc535d"
      },
      "source": [
        "def rand_demand_pd(day):\n",
        "  if df['distype'][day] == 1:\n",
        "    print(\"normal Dis\")\n",
        "rand_demand_pd(0)"
      ],
      "execution_count": null,
      "outputs": [
        {
          "output_type": "stream",
          "text": [
            "normal Dis\n"
          ],
          "name": "stdout"
        }
      ]
    },
    {
      "cell_type": "markdown",
      "metadata": {
        "id": "aOjmiuZj7FsL"
      },
      "source": [
        "import file by numpy"
      ]
    },
    {
      "cell_type": "code",
      "metadata": {
        "id": "wUgbdP2-HZeP"
      },
      "source": [
        "import numpy as np"
      ],
      "execution_count": null,
      "outputs": []
    },
    {
      "cell_type": "code",
      "metadata": {
        "colab": {
          "base_uri": "https://localhost:8080/"
        },
        "id": "40INXhky_cjE",
        "outputId": "abe08410-e43c-4c76-e7c2-7caf55a9e7d0"
      },
      "source": [
        "RawDemand = np.genfromtxt(\"demand1.txt\", dtype=int,encoding=None, delimiter=\",\")\n",
        "RawDonate = np.genfromtxt(\"donate1.txt\", dtype=int,encoding=None, delimiter=\",\")\n",
        "Rawimport = np.genfromtxt(\"import1.txt\", dtype=int,encoding=None, delimiter=\",\")\n",
        "print(RawDemand)\n",
        "print(RawDonate)\n",
        "print(Rawimport)\n",
        "print(RawDemand[0][0])"
      ],
      "execution_count": null,
      "outputs": [
        {
          "output_type": "stream",
          "name": "stdout",
          "text": [
            "[[ 1  1 42 12]\n",
            " [ 2  1 32 10]\n",
            " [ 3  1 27 11]\n",
            " [ 4  0 16 36]\n",
            " [ 5  1 24  9]\n",
            " [ 6  0 13 32]\n",
            " [ 7  1 16  8]]\n",
            "[[1 1 7 2]\n",
            " [2 1 8 3]\n",
            " [3 1 7 4]\n",
            " [4 1 7 3]\n",
            " [5 1 7 3]\n",
            " [6 1 7 3]\n",
            " [7 0 0 0]]\n",
            "[[ 1  1  8  6]\n",
            " [ 2  1 17 23]\n",
            " [ 3  1 11  8]\n",
            " [ 4  1  7  5]\n",
            " [ 5  1 14 20]\n",
            " [ 6  1  4  6]\n",
            " [ 7  1 12 15]]\n",
            "1\n"
          ]
        }
      ]
    },
    {
      "cell_type": "markdown",
      "metadata": {
        "id": "yEMh24BI7JzM"
      },
      "source": [
        "create function random demand donate import"
      ]
    },
    {
      "cell_type": "code",
      "metadata": {
        "colab": {
          "base_uri": "https://localhost:8080/"
        },
        "id": "4-uf2vGDAxFk",
        "outputId": "1f3a7d2a-5ebc-453b-c9b3-04b5ee5c7155"
      },
      "source": [
        "def rand_demand_np(day):\n",
        "  if RawDemand[day][1] == 1:\n",
        "    print(\"normal Dis\")\n",
        "    use = np.random.normal(RawDemand[day][2], RawDemand[day][3])\n",
        "    while use < 0 : use = np.random.normal(RawDemand[day][2], RawDemand[day][3])\n",
        "    useint = np.round(use)\n",
        "    useint = np.int_(useint)\n",
        "  elif RawDemand[day][1] == 0:\n",
        "    print(\"Uniform Dis\")\n",
        "    use = np.random.uniform(RawDemand[day][2], RawDemand[day][3])\n",
        "    while use < 0 : use = np.random.normal(RawDemand[day][2], RawDemand[day][3])\n",
        "    useint = np.round(use)\n",
        "    useint = np.int_(useint)\n",
        "  return useint\n",
        "demand = rand_demand_np(2)\n",
        "print(demand.dtype)\n",
        "print(demand)"
      ],
      "execution_count": null,
      "outputs": [
        {
          "output_type": "stream",
          "name": "stdout",
          "text": [
            "normal Dis\n",
            "int64\n",
            "26\n"
          ]
        }
      ]
    },
    {
      "cell_type": "code",
      "metadata": {
        "id": "BO1CNHCnrqG5"
      },
      "source": [
        "def rand_donate_np(day):\n",
        "  if RawDonate[day][1] == 1:\n",
        "    print(\"normal Dis\")\n",
        "    don = np.random.normal(RawDonate[day][2], RawDonate[day][3])\n",
        "    while don < 0 : don = np.random.normal(RawDonate[day][2], RawDonate[day][3])\n",
        "    donint = np.round(don)\n",
        "    donint = np.int_(donint)\n",
        "  elif RawDonate[day][1] == 0:\n",
        "    print(\"Uniform Dis\")\n",
        "    don = np.random.uniform(RawDonate[day][2], RawDonate[day][3])\n",
        "    while don < 0 : don = np.random.normal(RawDonate[day][2], RawDonate[day][3])\n",
        "    donint = np.round(don)\n",
        "    donint = np.int_(donint)\n",
        "  return donint"
      ],
      "execution_count": null,
      "outputs": []
    },
    {
      "cell_type": "code",
      "metadata": {
        "colab": {
          "base_uri": "https://localhost:8080/"
        },
        "id": "A1Q6889zsCzv",
        "outputId": "ccf2ed7c-7dd2-4831-892e-b86cfa1328e6"
      },
      "source": [
        "def rand_import_np(day):\n",
        "  if Rawimport[day][1] == 1:\n",
        "    print(\"normal Dis\")\n",
        "    im = np.random.normal(Rawimport[day][2], Rawimport[day][3])\n",
        "    while im < 0: im = np.random.normal(Rawimport[day][2], Rawimport[day][3])\n",
        "    imint = np.round(im)\n",
        "    imint = np.int_(imint)\n",
        "  elif Rawimport[day][1] == 0:\n",
        "    print(\"Uniform Dis\")\n",
        "    im = np.random.uniform(Rawimport[day][2], Rawimport[day][3])\n",
        "    while im < 0: im = np.random.normal(Rawimport[day][2], Rawimport[day][3])\n",
        "    imint = np.round(im)\n",
        "    imint = np.int_(imint)\n",
        "  return imint\n",
        "rand_import_np(0)\n"
      ],
      "execution_count": null,
      "outputs": [
        {
          "output_type": "stream",
          "name": "stdout",
          "text": [
            "normal Dis\n"
          ]
        },
        {
          "output_type": "execute_result",
          "data": {
            "text/plain": [
              "13"
            ]
          },
          "metadata": {},
          "execution_count": 9
        }
      ]
    },
    {
      "cell_type": "markdown",
      "metadata": {
        "id": "5dcgR5AE8UGw"
      },
      "source": [
        "Process inside blood bank (import file & print stock)"
      ]
    },
    {
      "cell_type": "code",
      "metadata": {
        "id": "mOGQ27R7F_PR",
        "colab": {
          "base_uri": "https://localhost:8080/"
        },
        "outputId": "f513b01a-f864-4667-e3a6-7902f5599d3f"
      },
      "source": [
        "Bank_newblood=[]\n",
        "Bank_Oldblood=[]\n",
        "needmore=0\n",
        "waste=0\n",
        "for x in range(5):\n",
        "  day=x%7\n",
        "  i=0\n",
        "  a=0\n",
        "  m=0\n",
        "  print(day)\n",
        "  print(\"////////\")\n",
        "  donate = rand_donate_np(day)+rand_import_np(day)\n",
        "  donate =np.int_(donate)\n",
        "  use=rand_demand_np(day)\n",
        "  print(\"donate\",donate)\n",
        "  print(\"demand\",use)\n",
        "  print(\"////////\")\n",
        "  for x in range(donate):\n",
        "    Bank_newblood.append(0)\n",
        "  for i in Bank_newblood:\n",
        "    print(i)\n",
        "  for i in Bank_Oldblood:\n",
        "    print(i)\n",
        "  n=Bank_newblood.count(7)\n",
        "  if n > 0:\n",
        "    while 7 in Bank_newblood: Bank_newblood.remove(7)\n",
        "    for x in range(n):\n",
        "      Bank_Oldblood.append(7)\n",
        "  n=Bank_Oldblood.count(7)\n",
        "  if n > 0:\n",
        "    while 35 in Bank_Oldblood: \n",
        "      Bank_Oldblood.remove(35)\n",
        "      m +=1\n",
        "  waste=waste+m\n",
        "  print(\"///////////\")\n",
        "  if use <= len(Bank_newblood)+len(Bank_Oldblood) :\n",
        "    for x in range(use):\n",
        "      if  len(Bank_Oldblood)>0:\n",
        "        Bank_Oldblood.pop()\n",
        "      else:\n",
        "        Bank_newblood.pop()\n",
        "  else:\n",
        "    Bank_newblood.clear()\n",
        "    Bank_Oldblood.clear()\n",
        "    needmore = needmore+(use-donate)\n",
        "  for i in Bank_newblood:\n",
        "    print(i)\n",
        "  for i in Bank_Oldblood:\n",
        "    print(i)\n",
        "  print(\"///////////\")\n",
        "  while i < len(Bank_newblood):\n",
        "    Bank_newblood[i]=Bank_newblood[i]+1\n",
        "    i += 1\n",
        "  while i < len(Bank_Oldblood):\n",
        "    Bank_Oldblood[i]=Bank_Oldblood[i]+1\n",
        "    i += 1\n",
        "  for i in Bank_newblood:\n",
        "    print(i)\n",
        "  for i in Bank_Oldblood:\n",
        "    print(i)\n",
        "  print(\"NewBlood\",len(Bank_newblood))\n",
        "  print(\"OldwBlood\",len(Bank_Oldblood))\n",
        "  print(\"needmore\",needmore)\n",
        "  print(\"waste\",waste)"
      ],
      "execution_count": null,
      "outputs": [
        {
          "output_type": "stream",
          "text": [
            "0\n",
            "////////\n",
            "normal Dis\n",
            "normal Dis\n",
            "normal Dis\n",
            "donate 19\n",
            "demand 55\n",
            "////////\n",
            "0\n",
            "0\n",
            "0\n",
            "0\n",
            "0\n",
            "0\n",
            "0\n",
            "0\n",
            "0\n",
            "0\n",
            "0\n",
            "0\n",
            "0\n",
            "0\n",
            "0\n",
            "0\n",
            "0\n",
            "0\n",
            "0\n",
            "///////////\n",
            "///////////\n",
            "NewBlood 0\n",
            "OldwBlood 0\n",
            "needmore 36\n",
            "waste 0\n",
            "1\n",
            "////////\n",
            "normal Dis\n",
            "normal Dis\n",
            "normal Dis\n",
            "donate 28\n",
            "demand 42\n",
            "////////\n",
            "0\n",
            "0\n",
            "0\n",
            "0\n",
            "0\n",
            "0\n",
            "0\n",
            "0\n",
            "0\n",
            "0\n",
            "0\n",
            "0\n",
            "0\n",
            "0\n",
            "0\n",
            "0\n",
            "0\n",
            "0\n",
            "0\n",
            "0\n",
            "0\n",
            "0\n",
            "0\n",
            "0\n",
            "0\n",
            "0\n",
            "0\n",
            "0\n",
            "///////////\n",
            "///////////\n",
            "NewBlood 0\n",
            "OldwBlood 0\n",
            "needmore 50\n",
            "waste 0\n",
            "2\n",
            "////////\n",
            "normal Dis\n",
            "normal Dis\n",
            "normal Dis\n",
            "donate 45\n",
            "demand 29\n",
            "////////\n",
            "0\n",
            "0\n",
            "0\n",
            "0\n",
            "0\n",
            "0\n",
            "0\n",
            "0\n",
            "0\n",
            "0\n",
            "0\n",
            "0\n",
            "0\n",
            "0\n",
            "0\n",
            "0\n",
            "0\n",
            "0\n",
            "0\n",
            "0\n",
            "0\n",
            "0\n",
            "0\n",
            "0\n",
            "0\n",
            "0\n",
            "0\n",
            "0\n",
            "0\n",
            "0\n",
            "0\n",
            "0\n",
            "0\n",
            "0\n",
            "0\n",
            "0\n",
            "0\n",
            "0\n",
            "0\n",
            "0\n",
            "0\n",
            "0\n",
            "0\n",
            "0\n",
            "0\n",
            "///////////\n",
            "0\n",
            "0\n",
            "0\n",
            "0\n",
            "0\n",
            "0\n",
            "0\n",
            "0\n",
            "0\n",
            "0\n",
            "0\n",
            "0\n",
            "0\n",
            "0\n",
            "0\n",
            "0\n",
            "///////////\n",
            "1\n",
            "1\n",
            "1\n",
            "1\n",
            "1\n",
            "1\n",
            "1\n",
            "1\n",
            "1\n",
            "1\n",
            "1\n",
            "1\n",
            "1\n",
            "1\n",
            "1\n",
            "1\n",
            "NewBlood 16\n",
            "OldwBlood 0\n",
            "needmore 50\n",
            "waste 0\n",
            "3\n",
            "////////\n",
            "normal Dis\n",
            "normal Dis\n",
            "Uniform Dis\n",
            "donate 12\n",
            "demand 21\n",
            "////////\n",
            "1\n",
            "1\n",
            "1\n",
            "1\n",
            "1\n",
            "1\n",
            "1\n",
            "1\n",
            "1\n",
            "1\n",
            "1\n",
            "1\n",
            "1\n",
            "1\n",
            "1\n",
            "1\n",
            "0\n",
            "0\n",
            "0\n",
            "0\n",
            "0\n",
            "0\n",
            "0\n",
            "0\n",
            "0\n",
            "0\n",
            "0\n",
            "0\n",
            "///////////\n",
            "1\n",
            "1\n",
            "1\n",
            "1\n",
            "1\n",
            "1\n",
            "1\n",
            "///////////\n",
            "1\n",
            "2\n",
            "2\n",
            "2\n",
            "2\n",
            "2\n",
            "2\n",
            "NewBlood 7\n",
            "OldwBlood 0\n",
            "needmore 50\n",
            "waste 0\n",
            "4\n",
            "////////\n",
            "normal Dis\n",
            "normal Dis\n",
            "normal Dis\n",
            "donate 64\n",
            "demand 21\n",
            "////////\n",
            "1\n",
            "2\n",
            "2\n",
            "2\n",
            "2\n",
            "2\n",
            "2\n",
            "0\n",
            "0\n",
            "0\n",
            "0\n",
            "0\n",
            "0\n",
            "0\n",
            "0\n",
            "0\n",
            "0\n",
            "0\n",
            "0\n",
            "0\n",
            "0\n",
            "0\n",
            "0\n",
            "0\n",
            "0\n",
            "0\n",
            "0\n",
            "0\n",
            "0\n",
            "0\n",
            "0\n",
            "0\n",
            "0\n",
            "0\n",
            "0\n",
            "0\n",
            "0\n",
            "0\n",
            "0\n",
            "0\n",
            "0\n",
            "0\n",
            "0\n",
            "0\n",
            "0\n",
            "0\n",
            "0\n",
            "0\n",
            "0\n",
            "0\n",
            "0\n",
            "0\n",
            "0\n",
            "0\n",
            "0\n",
            "0\n",
            "0\n",
            "0\n",
            "0\n",
            "0\n",
            "0\n",
            "0\n",
            "0\n",
            "0\n",
            "0\n",
            "0\n",
            "0\n",
            "0\n",
            "0\n",
            "0\n",
            "0\n",
            "///////////\n",
            "1\n",
            "2\n",
            "2\n",
            "2\n",
            "2\n",
            "2\n",
            "2\n",
            "0\n",
            "0\n",
            "0\n",
            "0\n",
            "0\n",
            "0\n",
            "0\n",
            "0\n",
            "0\n",
            "0\n",
            "0\n",
            "0\n",
            "0\n",
            "0\n",
            "0\n",
            "0\n",
            "0\n",
            "0\n",
            "0\n",
            "0\n",
            "0\n",
            "0\n",
            "0\n",
            "0\n",
            "0\n",
            "0\n",
            "0\n",
            "0\n",
            "0\n",
            "0\n",
            "0\n",
            "0\n",
            "0\n",
            "0\n",
            "0\n",
            "0\n",
            "0\n",
            "0\n",
            "0\n",
            "0\n",
            "0\n",
            "0\n",
            "0\n",
            "///////////\n",
            "2\n",
            "3\n",
            "3\n",
            "3\n",
            "3\n",
            "3\n",
            "3\n",
            "1\n",
            "1\n",
            "1\n",
            "1\n",
            "1\n",
            "1\n",
            "1\n",
            "1\n",
            "1\n",
            "1\n",
            "1\n",
            "1\n",
            "1\n",
            "1\n",
            "1\n",
            "1\n",
            "1\n",
            "1\n",
            "1\n",
            "1\n",
            "1\n",
            "1\n",
            "1\n",
            "1\n",
            "1\n",
            "1\n",
            "1\n",
            "1\n",
            "1\n",
            "1\n",
            "1\n",
            "1\n",
            "1\n",
            "1\n",
            "1\n",
            "1\n",
            "1\n",
            "1\n",
            "1\n",
            "1\n",
            "1\n",
            "1\n",
            "1\n",
            "NewBlood 50\n",
            "OldwBlood 0\n",
            "needmore 50\n",
            "waste 0\n"
          ],
          "name": "stdout"
        }
      ]
    },
    {
      "cell_type": "markdown",
      "metadata": {
        "id": "WgfKchX9-fRc"
      },
      "source": [
        "Process inside blood bank (import file & not print stock) แก้บั๊ก needmore"
      ]
    },
    {
      "cell_type": "code",
      "metadata": {
        "colab": {
          "base_uri": "https://localhost:8080/"
        },
        "id": "Bj8UxA_a-iHV",
        "outputId": "6c33595b-3dc6-41be-ed7f-9fba1a2ef58f"
      },
      "source": [
        "Bank_newblood=[]\n",
        "Bank_Oldblood=[]\n",
        "needmore=0\n",
        "waste=0\n",
        "realday=0\n",
        "for x in range(8):\n",
        "  realday+=1\n",
        "  day=x%7\n",
        "  i=0\n",
        "  a=0\n",
        "  m=0\n",
        "  print(day)\n",
        "  print(\"////////\")\n",
        "  donate = rand_donate_np(day)+rand_import_np(day)\n",
        "  donate =np.int_(donate)\n",
        "  use=rand_demand_np(day)\n",
        "  demand=use\n",
        "  print(\"donate\",donate)\n",
        "  print(\"demand\",use)\n",
        "  print(\"////////\")\n",
        "  for x in range(donate):\n",
        "    Bank_newblood.append(0)\n",
        "  n=Bank_newblood.count(7)\n",
        "  if n > 0:\n",
        "    while 7 in Bank_newblood: Bank_newblood.remove(7)\n",
        "    for x in range(n):\n",
        "      Bank_Oldblood.append(7)\n",
        "  n=Bank_Oldblood.count(7)\n",
        "  if n > 0:\n",
        "    while 35 in Bank_Oldblood: \n",
        "      Bank_Oldblood.remove(35)\n",
        "      m +=1\n",
        "  waste=waste+m\n",
        "  if use<=len(Bank_newblood)+len(Bank_Oldblood) :\n",
        "    for x in range(use):\n",
        "      if  len(Bank_Oldblood)>0:\n",
        "        Bank_Oldblood.pop()\n",
        "      else:\n",
        "        Bank_newblood.pop()\n",
        "  elif use > len(Bank_newblood)+len(Bank_Oldblood) and len(Bank_newblood)+len(Bank_Oldblood) > 0 :\n",
        "    while len(Bank_newblood) > 0: \n",
        "      Bank_newblood.pop()\n",
        "      use =use-1\n",
        "    while len(Bank_Oldblood) > 0: \n",
        "      Bank_Bank_Oldblood.pop()\n",
        "      use =use-1\n",
        "    needmore = needmore+use\n",
        "  else:\n",
        "      Bank_newblood.clear()\n",
        "      Bank_Oldblood.clear()\n",
        "      needmore = needmore+(use-len(Bank_newblood)-len(Bank_Oldblood))\n",
        "  while i < len(Bank_newblood):\n",
        "    Bank_newblood[i]=Bank_newblood[i]+1\n",
        "    i += 1\n",
        "  while i < len(Bank_Oldblood):\n",
        "    Bank_Oldblood[i]=Bank_Oldblood[i]+1\n",
        "    i += 1\n",
        "  print(\"NewBlood\",len(Bank_newblood))\n",
        "  print(\"OldwBlood\",len(Bank_Oldblood))\n",
        "  print(\"needmore\",needmore)\n",
        "  print(\"waste\",waste)\n",
        "  p1.append(Bloodplot(realday,donate,demand,len(Bank_newblood),len(Bank_Oldblood),needmore,waste))"
      ],
      "execution_count": null,
      "outputs": [
        {
          "output_type": "stream",
          "name": "stdout",
          "text": [
            "0\n",
            "////////\n",
            "normal Dis\n",
            "normal Dis\n",
            "normal Dis\n",
            "donate 11\n",
            "demand 35\n",
            "////////\n",
            "NewBlood 0\n",
            "OldwBlood 0\n",
            "needmore 24\n",
            "waste 0\n",
            "1\n",
            "////////\n",
            "normal Dis\n",
            "normal Dis\n",
            "normal Dis\n",
            "donate 30\n",
            "demand 37\n",
            "////////\n",
            "NewBlood 0\n",
            "OldwBlood 0\n",
            "needmore 31\n",
            "waste 0\n",
            "2\n",
            "////////\n",
            "normal Dis\n",
            "normal Dis\n",
            "normal Dis\n",
            "donate 26\n",
            "demand 38\n",
            "////////\n",
            "NewBlood 0\n",
            "OldwBlood 0\n",
            "needmore 43\n",
            "waste 0\n",
            "3\n",
            "////////\n",
            "normal Dis\n",
            "normal Dis\n",
            "Uniform Dis\n",
            "donate 9\n",
            "demand 25\n",
            "////////\n",
            "NewBlood 0\n",
            "OldwBlood 0\n",
            "needmore 59\n",
            "waste 0\n",
            "4\n",
            "////////\n",
            "normal Dis\n",
            "normal Dis\n",
            "normal Dis\n",
            "donate 45\n",
            "demand 17\n",
            "////////\n",
            "NewBlood 28\n",
            "OldwBlood 0\n",
            "needmore 59\n",
            "waste 0\n",
            "5\n",
            "////////\n",
            "normal Dis\n",
            "normal Dis\n",
            "Uniform Dis\n",
            "donate 21\n",
            "demand 23\n",
            "////////\n",
            "NewBlood 26\n",
            "OldwBlood 0\n",
            "needmore 59\n",
            "waste 0\n",
            "6\n",
            "////////\n",
            "Uniform Dis\n",
            "normal Dis\n",
            "normal Dis\n",
            "donate 15\n",
            "demand 23\n",
            "////////\n",
            "NewBlood 18\n",
            "OldwBlood 0\n",
            "needmore 59\n",
            "waste 0\n",
            "0\n",
            "////////\n",
            "normal Dis\n",
            "normal Dis\n",
            "normal Dis\n",
            "donate 17\n",
            "demand 63\n",
            "////////\n",
            "NewBlood 0\n",
            "OldwBlood 0\n",
            "needmore 87\n",
            "waste 0\n"
          ]
        }
      ]
    },
    {
      "cell_type": "markdown",
      "metadata": {
        "id": "Tb2syZvu11o2"
      },
      "source": [
        "สร้าง class เก็บข้อมูล เป็นแพค ก่อนไปพล็อต"
      ]
    },
    {
      "cell_type": "code",
      "metadata": {
        "id": "ZjMyyNY62Dyi"
      },
      "source": [
        "p1=[]\n",
        "class Bloodplot:\n",
        "  def __init__(self,day,donate,demand,innewbank,inoldbank,needmore,waste):\n",
        "    self.day = day\n",
        "    self.donate = donate\n",
        "    self.demand = demand\n",
        "    self.innewbank = innewbank\n",
        "    self.inoldbank = inoldbank\n",
        "    self.needmore = needmore\n",
        "    self.waste = waste\n",
        "    \n"
      ],
      "execution_count": null,
      "outputs": []
    },
    {
      "cell_type": "markdown",
      "metadata": {
        "id": "S5fOLZbZADZe"
      },
      "source": [
        "ลองเรียกคลาส (ใช้ได้)"
      ]
    },
    {
      "cell_type": "code",
      "metadata": {
        "colab": {
          "base_uri": "https://localhost:8080/"
        },
        "id": "XQVLb8P8AGRc",
        "outputId": "5ce9a264-e22d-44ce-9bc3-b231f49a8eed"
      },
      "source": [
        "print(p1[0].demand)\n",
        "print(p1[0].day)"
      ],
      "execution_count": null,
      "outputs": [
        {
          "output_type": "stream",
          "name": "stdout",
          "text": [
            "35\n",
            "1\n"
          ]
        }
      ]
    },
    {
      "cell_type": "markdown",
      "metadata": {
        "id": "Q2BWCvNjAliU"
      },
      "source": [
        "พล็อตกราฟ matpoltlip\n",
        "\n"
      ]
    },
    {
      "cell_type": "code",
      "metadata": {
        "colab": {
          "base_uri": "https://localhost:8080/",
          "height": 279
        },
        "id": "_BnF4oHHB1G1",
        "outputId": "259c7564-2ecb-4ef2-9c21-532477e7033d"
      },
      "source": [
        "from matplotlib import pyplot as plt\n",
        "pdemand=[]\n",
        "pdonate=[]\n",
        "px=[]\n",
        "for x in range(8):\n",
        "  pdemand.append(p1[x].demand)\n",
        "for y in range(8):\n",
        "  px.append(p1[y].day)\n",
        "for x in range(8):\n",
        "  pdonate.append(p1[x].donate)\n",
        "plt.ylabel(\"bloodbag\")\n",
        "plt.xlabel(\"day\")\n",
        "plt.plot(px,pdemand)\n",
        "plt.plot(px,pdonate)\n",
        "plt.show()"
      ],
      "execution_count": null,
      "outputs": [
        {
          "output_type": "display_data",
          "data": {
            "image/png": "[encoded data removed]",
            "text/plain": [
              "<Figure size 432x288 with 1 Axes>"
            ]
          },
          "metadata": {
            "needs_background": "light"
          }
        }
      ]
    },
    {
      "cell_type": "code",
      "metadata": {
        "colab": {
          "base_uri": "https://localhost:8080/",
          "height": 567
        },
        "id": "L9A5Q_uP6RdU",
        "outputId": "dea4950d-e6f3-4765-92ab-77ffad5baff1"
      },
      "source": [
        "import seaborn as sns\n",
        "plt.figure(figsize=(12,8))\n",
        "plt.xlabel(\"Day\")\n",
        "plt.ylabel(\"Demand\")\n",
        "sns.lineplot(px,pdemand)"
      ],
      "execution_count": null,
      "outputs": [
        {
          "output_type": "stream",
          "name": "stderr",
          "text": [
            "/usr/local/lib/python3.7/dist-packages/seaborn/_decorators.py:43: FutureWarning: Pass the following variables as keyword args: x, y. From version 0.12, the only valid positional argument will be `data`, and passing other arguments without an explicit keyword will result in an error or misinterpretation.\n",
            "  FutureWarning\n"
          ]
        },
        {
          "output_type": "execute_result",
          "data": {
            "text/plain": [
              "<matplotlib.axes._subplots.AxesSubplot at 0x7f453715bd90>"
            ]
          },
          "metadata": {},
          "execution_count": 33
        },
        {
          "output_type": "display_data",
          "data": {
            "image/png": "[encoded data removed]",
            "text/plain": [
              "<Figure size 864x576 with 1 Axes>"
            ]
          },
          "metadata": {
            "needs_background": "light"
          }
        }
      ]
    },
    {
      "cell_type": "code",
      "metadata": {
        "colab": {
          "base_uri": "https://localhost:8080/",
          "height": 567
        },
        "id": "-XV1Cs9I-u0A",
        "outputId": "86d1399a-e75d-4c50-8b98-b092e1688a6e"
      },
      "source": [
        "import seaborn as sns\n",
        "plt.figure(figsize=(12,8))\n",
        "plt.xlabel(\"Day\")\n",
        "plt.ylabel(\"Donate\")\n",
        "sns.lineplot(px,pdonate)"
      ],
      "execution_count": null,
      "outputs": [
        {
          "output_type": "stream",
          "name": "stderr",
          "text": [
            "/usr/local/lib/python3.7/dist-packages/seaborn/_decorators.py:43: FutureWarning: Pass the following variables as keyword args: x, y. From version 0.12, the only valid positional argument will be `data`, and passing other arguments without an explicit keyword will result in an error or misinterpretation.\n",
            "  FutureWarning\n"
          ]
        },
        {
          "output_type": "execute_result",
          "data": {
            "text/plain": [
              "<matplotlib.axes._subplots.AxesSubplot at 0x7f4527b2eed0>"
            ]
          },
          "metadata": {},
          "execution_count": 27
        },
        {
          "output_type": "display_data",
          "data": {
            "image/png": "[encoded data removed]",
            "text/plain": [
              "<Figure size 864x576 with 1 Axes>"
            ]
          },
          "metadata": {
            "needs_background": "light"
          }
        }
      ]
    },
    {
      "cell_type": "markdown",
      "metadata": {
        "id": "B9Ps_q2y7Xsa"
      },
      "source": [
        "Process inside blood bank (not import file & print stock)"
      ]
    },
    {
      "cell_type": "code",
      "metadata": {
        "colab": {
          "base_uri": "https://localhost:8080/"
        },
        "id": "BfRpsHJ14Qxy",
        "outputId": "39f85023-8414-4483-988b-e11afb1ee3d6"
      },
      "source": [
        "Bank_newblood=[]\n",
        "Bank_Oldblood=[]\n",
        "i=0\n",
        "a=0\n",
        "donate=5\n",
        "use=1\n",
        "needmore=0\n",
        "waste=0\n",
        "for x in range(donate):\n",
        "  Bank_newblood.append(0)\n",
        "for i in Bank_newblood:\n",
        "  print(i)\n",
        "n=Bank_newblood.count(7)\n",
        "if n > 0:\n",
        "  while 7 in Bank_newblood: Bank_newblood.remove(7)\n",
        "  for x in range(n):\n",
        "    Bank_Oldblood.append(7)\n",
        "n=Bank_Oldblood.count(7)\n",
        "if n > 0:\n",
        "  while 35 in Bank_Oldblood: Bank_Oldblood.remove(35)\n",
        "waste=waste+n\n",
        "print(\"///////////\")\n",
        "if use<=len(Bank_newblood)+len(Bank_Oldblood) :\n",
        "  for x in range(use):\n",
        "    if  len(Bank_Oldblood)>0:\n",
        "      Bank_Oldblood.pop()\n",
        "    else:\n",
        "      Bank_newblood.pop()\n",
        "else:\n",
        "  Bank_newblood.clear()\n",
        "  Bank_Oldblood.clear()\n",
        "  needmore = needmore+(use-len(Bank_newblood)-len(Bank_Oldblood))\n",
        "for i in Bank_newblood:\n",
        "  print(i)\n",
        "print(\"///////////\")\n",
        "while i < len(Bank_newblood):\n",
        "  Bank_newblood[i]=Bank_newblood[i]+1\n",
        "  i += 1\n",
        "while i < len(Bank_Oldblood):\n",
        "  Bank_Oldblood[i]=Bank_Oldblood[i]+1\n",
        "  i += 1\n",
        "for i in Bank_newblood:\n",
        "  print(i)\n",
        "print(\"NewBlood\",len(Bank_newblood))\n",
        "print(\"OldwBlood\",len(Bank_Oldblood))\n",
        "print(\"needmore\",needmore)\n",
        "print(\"waste\",waste)\n",
        "\n",
        "\n"
      ],
      "execution_count": null,
      "outputs": [
        {
          "output_type": "stream",
          "text": [
            "0\n",
            "0\n",
            "0\n",
            "0\n",
            "0\n",
            "///////////\n",
            "0\n",
            "0\n",
            "0\n",
            "0\n",
            "///////////\n",
            "1\n",
            "1\n",
            "1\n",
            "1\n",
            "NewBlood 4\n",
            "OldwBlood 0\n",
            "needmore 0\n",
            "waste 0\n"
          ],
          "name": "stdout"
        }
      ]
    },
    {
      "cell_type": "code",
      "metadata": {
        "colab": {
          "base_uri": "https://localhost:8080/"
        },
        "id": "yvipOowJ7gZN",
        "outputId": "382d3ee7-d2f5-4223-aebf-31db06fb8b6d"
      },
      "source": [
        "a = [1,1]\n",
        "use = 10\n",
        "don = 5\n",
        "for x in range(don):\n",
        "  a.append(1)\n",
        "if use > don and len(a) > 0:\n",
        "  print(\"not enough\")\n",
        "  while len(a) > 0: \n",
        "    a.pop()\n",
        "    use =use-1\n",
        "  print(use)\n"
      ],
      "execution_count": null,
      "outputs": [
        {
          "output_type": "stream",
          "text": [
            "not enough\n",
            "3\n"
          ],
          "name": "stdout"
        }
      ]
    },
    {
      "cell_type": "code",
      "metadata": {
        "colab": {
          "base_uri": "https://localhost:8080/"
        },
        "id": "P8Cjs17hqSUx",
        "outputId": "1447a7bf-5c2c-49bc-e446-4aa9a320e40e"
      },
      "source": [
        "sample=[1,2,3,4,7,7,7]\n",
        "n=sample.count(7)\n",
        "if n > 0:\n",
        "  while 7 in sample: sample.remove(7)\n",
        "print(n)\n",
        "print(\"////////\")\n",
        "for x in sample:\n",
        "  print(x)"
      ],
      "execution_count": null,
      "outputs": [
        {
          "output_type": "stream",
          "text": [
            "\n",
            "3\n",
            "////////\n",
            "1\n",
            "2\n",
            "3\n",
            "4\n"
          ],
          "name": "stdout"
        }
      ]
    },
    {
      "cell_type": "code",
      "metadata": {
        "id": "odR7HXTSrt_J"
      },
      "source": [
        "n =input(\"Enter Number\")"
      ],
      "execution_count": null,
      "outputs": []
    }
  ]
}